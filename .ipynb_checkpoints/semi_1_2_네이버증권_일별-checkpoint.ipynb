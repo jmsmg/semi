{
 "cells": [
  {
   "cell_type": "code",
   "execution_count": 1,
   "metadata": {},
   "outputs": [],
   "source": [
    "import requests\n",
    "from bs4 import BeautifulSoup"
   ]
  },
  {
   "cell_type": "code",
   "execution_count": 2,
   "metadata": {},
   "outputs": [],
   "source": [
    "# url = 'https://finance.naver.com/item/sise_day.nhn?code='\n",
    "# com_code = '005930'\n",
    "# res = requests.get(url+com_code)\n",
    "# soup = BeautifulSoup(res.text, 'html.parser')"
   ]
  },
  {
   "cell_type": "code",
   "execution_count": 3,
   "metadata": {},
   "outputs": [],
   "source": [
    "url = 'https://finance.naver.com/item/sise_day.nhn?code='\n",
    "com_code = '005930'\n",
    "headers = {'User-Agent' : 'Mozilla/5.0 (Macintosh; Intel Mac OS X 10_15_7) AppleWebKit/537.36 (KHTML, like Gecko) Chrome/91.0.4472.101 Safari/537.36'}\n",
    "page = 'page='\n",
    "web = requests.get(url+com_code+page, headers=headers).content\n",
    "soup = BeautifulSoup(web, 'html.parser')"
   ]
  },
  {
   "cell_type": "code",
   "execution_count": 38,
   "metadata": {},
   "outputs": [],
   "source": [
    "quote = soup.find_all('td', {'class':'num'})"
   ]
  },
  {
   "cell_type": "code",
   "execution_count": 49,
   "metadata": {},
   "outputs": [
    {
     "data": {
      "text/plain": [
       "'80,900'"
      ]
     },
     "execution_count": 49,
     "metadata": {},
     "output_type": "execute_result"
    }
   ],
   "source": [
    "quote[0].get_text()"
   ]
  },
  {
   "cell_type": "code",
   "execution_count": 57,
   "metadata": {
    "scrolled": true
   },
   "outputs": [],
   "source": [
    "quote_cp =[]\n",
    "for i in range(len(quote)):\n",
    "    if i%6==0:\n",
    "        quote_cp+=quote[i]"
   ]
  },
  {
   "cell_type": "code",
   "execution_count": 58,
   "metadata": {
    "scrolled": true
   },
   "outputs": [
    {
     "data": {
      "text/plain": [
       "[<span class=\"tah p11\">80,900</span>,\n",
       " <span class=\"tah p11\">81,800</span>,\n",
       " <span class=\"tah p11\">80,900</span>,\n",
       " <span class=\"tah p11\">80,500</span>,\n",
       " <span class=\"tah p11\">81,000</span>,\n",
       " <span class=\"tah p11\">81,000</span>,\n",
       " <span class=\"tah p11\">81,100</span>,\n",
       " <span class=\"tah p11\">81,900</span>,\n",
       " <span class=\"tah p11\">81,900</span>,\n",
       " <span class=\"tah p11\">82,200</span>]"
      ]
     },
     "execution_count": 58,
     "metadata": {},
     "output_type": "execute_result"
    }
   ],
   "source": [
    "quote_cp"
   ]
  },
  {
   "cell_type": "code",
   "execution_count": 59,
   "metadata": {},
   "outputs": [
    {
     "name": "stdout",
     "output_type": "stream",
     "text": [
      "['80,900', '81,800', '80,900', '80,500', '81,000', '81,000', '81,100', '81,900', '81,900', '82,200']\n"
     ]
    }
   ],
   "source": [
    "price_list = []\n",
    "for quote in quote_cp:\n",
    "    price_list.append(quote.get_text())\n",
    "print(price_list)"
   ]
  },
  {
   "cell_type": "code",
   "execution_count": 105,
   "metadata": {},
   "outputs": [],
   "source": [
    "# p1_data=soup.find_all('span', {'class':'tah p11'})"
   ]
  },
  {
   "cell_type": "code",
   "execution_count": null,
   "metadata": {},
   "outputs": [],
   "source": []
  }
 ],
 "metadata": {
  "kernelspec": {
   "display_name": "Python 3",
   "language": "python",
   "name": "python3"
  },
  "language_info": {
   "codemirror_mode": {
    "name": "ipython",
    "version": 3
   },
   "file_extension": ".py",
   "mimetype": "text/x-python",
   "name": "python",
   "nbconvert_exporter": "python",
   "pygments_lexer": "ipython3",
   "version": "3.7.3"
  }
 },
 "nbformat": 4,
 "nbformat_minor": 2
}
